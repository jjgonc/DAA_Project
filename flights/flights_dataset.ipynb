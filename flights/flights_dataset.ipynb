{
  "cells": [
    {
      "cell_type": "markdown",
      "metadata": {
        "id": "2V8me7LJOdrk"
      },
      "source": [
        "### Import libraries"
      ]
    },
    {
      "cell_type": "code",
      "execution_count": null,
      "metadata": {
        "id": "jrtGwBYoOdro"
      },
      "outputs": [],
      "source": [
        "import pandas as pd\n",
        "import seaborn as sns\n",
        "import numpy as np\n",
        "import matplotlib.pyplot as plt\n",
        "%matplotlib inline\n",
        "from sklearn import preprocessing\n",
        "from sklearn.preprocessing import KBinsDiscretizer\n",
        "import re\n",
        "import xgboost as xgb\n",
        "from sklearn.model_selection import train_test_split\n",
        "from sklearn.tree import DecisionTreeRegressor \n",
        "from sklearn.metrics import r2_score\n",
        "from sklearn.metrics import mean_absolute_error\n",
        "from sklearn.model_selection import cross_val_score\n",
        "from sklearn.model_selection import RepeatedKFold\n",
        "from xgboost import XGBRegressor\n",
        "from sklearn.model_selection import cross_val_score, GridSearchCV\n",
        "from sklearn.ensemble import RandomForestRegressor\n",
        "from sklearn.preprocessing import MinMaxScaler\n"
      ]
    },
    {
      "cell_type": "markdown",
      "metadata": {
        "id": "_0eB_pbyOdrt"
      },
      "source": [
        "### Read the datasets"
      ]
    },
    {
      "cell_type": "code",
      "execution_count": null,
      "metadata": {
        "id": "Dt4B_iApOdrv"
      },
      "outputs": [],
      "source": [
        "businessdata = pd.read_csv('business.csv')\n",
        "businessdata['business'] = 1\n",
        "economy = pd.read_csv('economy.csv')\n",
        "economy['business'] = 0\n",
        "dataset = pd.concat([businessdata,economy])"
      ]
    },
    {
      "attachments": {},
      "cell_type": "markdown",
      "metadata": {
        "id": "wBAudis_Rnc1"
      },
      "source": [
        "# Data Preparation"
      ]
    },
    {
      "attachments": {},
      "cell_type": "markdown",
      "metadata": {},
      "source": [
        "#### Rename Columns"
      ]
    },
    {
      "cell_type": "code",
      "execution_count": null,
      "metadata": {},
      "outputs": [],
      "source": [
        "dataset.rename(columns= {'date':'date_travel','ch_code':'character_code', 'num_code':'numerical_code', 'dep_time':'departure_time', \n",
        "'from':'source_city', 'time_taken':'duration_flight', 'stop':'stops', 'arr_time':'arrival_time', 'to':'destination_city'},inplace = True)"
      ]
    },
    {
      "cell_type": "code",
      "execution_count": null,
      "metadata": {},
      "outputs": [],
      "source": [
        "dataset.head()"
      ]
    },
    {
      "cell_type": "code",
      "execution_count": null,
      "metadata": {},
      "outputs": [],
      "source": [
        "dataset.count()"
      ]
    },
    {
      "attachments": {},
      "cell_type": "markdown",
      "metadata": {},
      "source": [
        "#### Dataset Size Reduction and Duplicates Removing"
      ]
    },
    {
      "cell_type": "code",
      "execution_count": null,
      "metadata": {},
      "outputs": [],
      "source": [
        "\n",
        "\n",
        "# duplicate row filtering\n",
        "print(\"len before: \" + str(len(dataset)))\n",
        "dataset.drop_duplicates(inplace=True)\n",
        "print(\"len after: \" + str(len(dataset)))"
      ]
    },
    {
      "cell_type": "markdown",
      "metadata": {},
      "source": [
        "### Stratified Sampling"
      ]
    },
    {
      "cell_type": "code",
      "execution_count": null,
      "metadata": {},
      "outputs": [],
      "source": [
        "dataset.groupby('price', group_keys=False).apply(lambda x: x.sample(frac=0.9))"
      ]
    },
    {
      "cell_type": "markdown",
      "metadata": {},
      "source": [
        "#### Type conversion: Change cells from 'stop' column to an ordinal value \n"
      ]
    },
    {
      "cell_type": "code",
      "execution_count": null,
      "metadata": {},
      "outputs": [],
      "source": [
        "stopValues = dataset.groupby(['stops'])['stops'].count()\n",
        "print(stopValues)"
      ]
    },
    {
      "cell_type": "markdown",
      "metadata": {},
      "source": [
        "**As seen above, some of the cells in the \"stop\" column have a misformatting error (with multiple '\\n' and '\\t')**"
      ]
    },
    {
      "cell_type": "code",
      "execution_count": null,
      "metadata": {},
      "outputs": [],
      "source": [
        "dataset['stops'] = dataset['stops'].str.replace('\\n', '')\n",
        "dataset['stops'] = dataset['stops'].str.replace('\\t', '')\n",
        "\n",
        "# dataset.to_csv('stopvalues.csv')"
      ]
    },
    {
      "cell_type": "markdown",
      "metadata": {},
      "source": [
        "**Now, let's convert to numeric type the number of stops**"
      ]
    },
    {
      "cell_type": "code",
      "execution_count": null,
      "metadata": {},
      "outputs": [],
      "source": [
        "dataset['stops'] = dataset['stops'].str.replace(r'1(.)+',  '1', regex=True)\n",
        "dataset['stops'] = dataset['stops'].str.replace(r'no(.)+', '0', regex=True)\n",
        "dataset['stops'] = dataset['stops'].str.replace(r'2(.)+',  '2',regex=True)\n",
        "\n",
        "dataset['stops'] = dataset['stops'].apply(int)"
      ]
    },
    {
      "cell_type": "markdown",
      "metadata": {},
      "source": [
        "#### Price to int"
      ]
    },
    {
      "cell_type": "code",
      "execution_count": null,
      "metadata": {},
      "outputs": [],
      "source": [
        "\n",
        "priceValues = dataset.groupby(['price'])['price'].count()\n",
        "print(priceValues)\n",
        "\n",
        "\n",
        "dataset['price'] = dataset['price'].str.replace(',', '')\n",
        "dataset['price'] = dataset['price'].apply(int)\n",
        "\n",
        "\n"
      ]
    },
    {
      "cell_type": "markdown",
      "metadata": {
        "id": "Lgh2OwkESfPt"
      },
      "source": [
        "#### Preço do bilhete ao fim de semana e à semana"
      ]
    },
    {
      "cell_type": "code",
      "execution_count": null,
      "metadata": {
        "id": "AcIdyc7LSi0W"
      },
      "outputs": [],
      "source": [
        "dataset['date_travel'] = pd.to_datetime(dataset['date_travel'], format=\"%d-%m-%Y\")\n",
        "\n",
        "dw_mapping={\n",
        "    0: 0, \n",
        "    1: 0, \n",
        "    2: 0, \n",
        "    3: 0, \n",
        "    4: 0,\n",
        "    5: 1, \n",
        "    6: 1\n",
        "} \n",
        "dataset['weekend']=dataset['date_travel'].dt.weekday.map(dw_mapping)\n",
        "\n"
      ]
    },
    {
      "attachments": {},
      "cell_type": "markdown",
      "metadata": {},
      "source": [
        "#### duration_flight to int"
      ]
    },
    {
      "cell_type": "code",
      "execution_count": null,
      "metadata": {
        "id": "FOaMhaT2R0ER"
      },
      "outputs": [],
      "source": [
        "def to_minutes(time_string):\n",
        "    result = re.search(r'(\\d+)h.*?(\\d+)m', time_string)\n",
        "    if (result):\n",
        "       minutes = int(result.group(1)) * 60 + int(result.group(2))\n",
        "       return minutes\n",
        "    else: \n",
        "        return -1\n",
        "\n",
        "dataset['duration_flight'] =  dataset['duration_flight'].apply(to_minutes)\n",
        "# remover linhas que nao seja possivel converter para int\n",
        "dataset = dataset[dataset.duration_flight != -1]\n",
        "\n"
      ]
    },
    {
      "cell_type": "markdown",
      "metadata": {},
      "source": [
        "### Tratamento à data"
      ]
    },
    {
      "cell_type": "code",
      "execution_count": null,
      "metadata": {},
      "outputs": [],
      "source": [
        "dataset['year'] = dataset['date_travel'].dt.year\n",
        "dataset['month'] = dataset['date_travel'].dt.month\n",
        "dataset['day'] = dataset['date_travel'].dt.day\n",
        "\n",
        "dataset = dataset.drop(['date_travel'], axis=1)"
      ]
    },
    {
      "attachments": {},
      "cell_type": "markdown",
      "metadata": {},
      "source": [
        "### Tratamento Departure Time and Arrival Time"
      ]
    },
    {
      "cell_type": "code",
      "execution_count": null,
      "metadata": {},
      "outputs": [],
      "source": [
        "def separate_hour(time):\n",
        "    res = re.search(r'(\\d+):(\\d+)', time)\n",
        "    if res:\n",
        "        return int(res.group(1))\n",
        "\n",
        "def separate_min(time):\n",
        "    res = re.search(r'(\\d+):(\\d+)', time)\n",
        "    if res:\n",
        "        return int(res.group(2))\n",
        "\n",
        "\n",
        "\n",
        "dataset['departure_hour'] = dataset['departure_time'].apply(separate_hour)\n",
        "dataset['departure_min'] = dataset['departure_time'].apply(separate_min)\n",
        "dataset = dataset.drop(['departure_time'],axis=1)\n",
        "\n",
        "dataset['arrival_hour'] = dataset['arrival_time'].apply(separate_hour)\n",
        "dataset['arrival_min'] = dataset['arrival_time'].apply(separate_min)\n",
        "dataset = dataset.drop(['arrival_time'],axis=1)\n"
      ]
    },
    {
      "cell_type": "markdown",
      "metadata": {
        "id": "KJi5i3srOdrx"
      },
      "source": [
        "# Dataset Visualization and Analysis"
      ]
    },
    {
      "cell_type": "code",
      "execution_count": null,
      "metadata": {},
      "outputs": [],
      "source": [
        "dataset.to_csv('dataset.csv')"
      ]
    },
    {
      "cell_type": "code",
      "execution_count": null,
      "metadata": {
        "id": "d-GkLD0UOdry"
      },
      "outputs": [],
      "source": [
        "dataset.info()"
      ]
    },
    {
      "cell_type": "code",
      "execution_count": null,
      "metadata": {
        "id": "nmYoVZsBOdry"
      },
      "outputs": [],
      "source": [
        "dataset.describe()"
      ]
    },
    {
      "cell_type": "code",
      "execution_count": null,
      "metadata": {
        "colab": {
          "base_uri": "https://localhost:8080/",
          "height": 337
        },
        "id": "s6LAIScGOdr0",
        "outputId": "071f2755-990f-4a07-f531-ee46b6822b54"
      },
      "outputs": [],
      "source": [
        "dataset.head()"
      ]
    },
    {
      "attachments": {},
      "cell_type": "markdown",
      "metadata": {},
      "source": [
        "#### Analise do preço dos bilhetes\n"
      ]
    },
    {
      "cell_type": "code",
      "execution_count": null,
      "metadata": {},
      "outputs": [],
      "source": [
        "sns.histplot(data = dataset['price'], bins=10)"
      ]
    },
    {
      "cell_type": "markdown",
      "metadata": {
        "id": "XnZZt1CgOdr0"
      },
      "source": [
        "#### Relação airline-bilhetes"
      ]
    },
    {
      "cell_type": "code",
      "execution_count": null,
      "metadata": {
        "id": "T_YLJz-2Odr2"
      },
      "outputs": [],
      "source": [
        "sns.histplot(data=dataset, x=\"airline\", hue=\"business\", multiple=\"dodge\")\n"
      ]
    },
    {
      "cell_type": "markdown",
      "metadata": {
        "id": "K1QvwZXlOdr3"
      },
      "source": [
        "É possivel verificar que as companhias Vistara e AirIndia têm os preços com a maior variação e os voos mais caros"
      ]
    },
    {
      "cell_type": "code",
      "execution_count": null,
      "metadata": {
        "id": "cqIbxemQOdr2"
      },
      "outputs": [],
      "source": [
        "plt.figure(figsize = (10,5))\n",
        "sns.boxplot(data=dataset, x=\"airline\", y=\"price\")\n",
        "plt.title(\"Airlines with Prices\")\n",
        "plt.show()"
      ]
    },
    {
      "cell_type": "code",
      "execution_count": null,
      "metadata": {},
      "outputs": [],
      "source": [
        "plt.figure(figsize = (6,5))\n",
        "sns.boxplot(data=dataset, y=\"duration_flight\")\n",
        "plt.show()"
      ]
    },
    {
      "cell_type": "code",
      "execution_count": null,
      "metadata": {
        "id": "2MZMr4rROdr4"
      },
      "outputs": [],
      "source": [
        "plt.figure(figsize = (6,5))\n",
        "sns.barplot(data=dataset, x=\"business\", y=\"price\")\n",
        "plt.title(\"Class with Prices\")\n",
        "plt.show()"
      ]
    },
    {
      "cell_type": "markdown",
      "metadata": {
        "id": "4NNzcUYiOdr4"
      },
      "source": [
        "#### Analise do preço dos bilhetes"
      ]
    },
    {
      "cell_type": "code",
      "execution_count": null,
      "metadata": {
        "colab": {
          "base_uri": "https://localhost:8080/",
          "height": 235
        },
        "id": "uNmfpMmtOdr5",
        "outputId": "47f5a287-c55d-4e62-da1f-df6ff85a098d"
      },
      "outputs": [],
      "source": [
        "plt.figure(figsize = (10,5))\n",
        "estimator = preprocessing.KBinsDiscretizer(n_bins=10, encode=\"ordinal\", strategy='quantile') # testar com onehot encoding\n",
        "dataset['price_binned'] = estimator.fit_transform(dataset[['price']])\n",
        "# print(estimator.bin_edges_[0])\n",
        "dataset.groupby(by=['price_binned']).count()\n",
        "\n",
        "sns.barplot(x='airline',y='price_binned',hue=\"business\",data=dataset.sort_values(\"price_binned\")).set_title('Airline prices based on the class and company',fontsize=13)"
      ]
    },
    {
      "attachments": {},
      "cell_type": "markdown",
      "metadata": {},
      "source": [
        "### Preço a semana e ao fim de semana"
      ]
    },
    {
      "cell_type": "code",
      "execution_count": null,
      "metadata": {},
      "outputs": [],
      "source": [
        "sns.barplot(data=dataset, x=\"weekend\", y=\"price\")\n",
        "\n",
        "#como este atributo não tem grande variação obptamos por fazer o drop\n",
        "\n",
        "dataset = dataset.drop(['weekend'], axis=1)"
      ]
    },
    {
      "cell_type": "code",
      "execution_count": null,
      "metadata": {},
      "outputs": [],
      "source": [
        "\n",
        "sns.barplot(data=dataset, x=\"airline\", y=\"price\")\n",
        "\n"
      ]
    },
    {
      "cell_type": "markdown",
      "metadata": {},
      "source": [
        "### Label Encoding "
      ]
    },
    {
      "cell_type": "code",
      "execution_count": null,
      "metadata": {},
      "outputs": [],
      "source": [
        "dataset.to_csv('before.csv')\n",
        "\n",
        "label_encoder = preprocessing.LabelEncoder()\n",
        "label_encoder.inverse_transform\n",
        "\n",
        "dataset['airline'] = label_encoder.fit_transform(dataset['airline'])\n",
        "dataset['character_code'] = label_encoder.fit_transform(dataset['character_code'])\n",
        "dataset['source_city'] = label_encoder.fit_transform(dataset['source_city'])\n",
        "dataset['destination_city'] = label_encoder.fit_transform(dataset['destination_city'])\n",
        " \n"
      ]
    },
    {
      "cell_type": "markdown",
      "metadata": {},
      "source": [
        "#### Searching for missing values"
      ]
    },
    {
      "cell_type": "code",
      "execution_count": null,
      "metadata": {},
      "outputs": [],
      "source": [
        "\n",
        "print(dataset.isnull().sum())\n",
        "\n",
        "dataset = dataset.dropna()\n",
        "\n",
        "print(dataset.isnull().sum())"
      ]
    },
    {
      "cell_type": "markdown",
      "metadata": {},
      "source": [
        "### Correlation Matrix"
      ]
    },
    {
      "cell_type": "code",
      "execution_count": null,
      "metadata": {},
      "outputs": [],
      "source": [
        "\n",
        "corr_matrix = dataset.corr()\n",
        "f , ax = plt.subplots(figsize=(12, 10))\n",
        "sns.heatmap(corr_matrix, vmin=-1, vmax=1, square=True, annot=True)\n",
        "\n",
        "yearValues1 = dataset.groupby(['year'])['year'].count()\n",
        "print(yearValues1)\n",
        "\n",
        "#remove data \n",
        "dataset = dataset.drop(['year'], axis=1)\n",
        "dataset.info()\n"
      ]
    },
    {
      "cell_type": "markdown",
      "metadata": {},
      "source": [
        "# Model\n"
      ]
    },
    {
      "cell_type": "code",
      "execution_count": null,
      "metadata": {},
      "outputs": [],
      "source": [
        "X = dataset.drop(['price','price_binned'], axis=1)\n",
        "y = dataset['price'].to_frame()\n",
        "\n",
        "\n",
        "X_train, X_test, y_train, y_test = train_test_split(X, y, test_size = 0.2, random_state = 2022)\n"
      ]
    },
    {
      "cell_type": "markdown",
      "metadata": {},
      "source": [
        "#### Decision Tree Classifier"
      ]
    },
    {
      "cell_type": "code",
      "execution_count": null,
      "metadata": {},
      "outputs": [],
      "source": [
        "\n",
        "dTree_clf = DecisionTreeRegressor(random_state=2022)\n",
        "dTree_clf.fit(X_train,y_train)\n",
        "\n",
        "y_pred = dTree_clf.predict(X_test)\n",
        "\n",
        "\n",
        "print(\"R^2 : \", r2_score(y_test, y_pred))\n",
        "print(\"MAE :\", mean_absolute_error(y_test,y_pred))\n",
        "\n"
      ]
    },
    {
      "cell_type": "markdown",
      "metadata": {},
      "source": [
        "### Random Forest Regression"
      ]
    },
    {
      "cell_type": "code",
      "execution_count": null,
      "metadata": {},
      "outputs": [],
      "source": [
        "\n",
        "# Perform Grid-Search\n",
        "gsc = GridSearchCV(\n",
        "        estimator=RandomForestRegressor(),\n",
        "        param_grid={\n",
        "            'max_depth': range(3,7),\n",
        "            'n_estimators': (10, 50, 100, 1000),\n",
        "        },\n",
        "        cv=5, scoring='r2', verbose=0, n_jobs=-1)\n",
        "    \n",
        "grid_result = gsc.fit(X, y.values.ravel())\n",
        "best_params = grid_result.best_params_\n",
        "\n",
        "print(best_params)\n",
        "\n",
        "rfr = RandomForestRegressor(max_depth=best_params[\"max_depth\"], n_estimators=best_params[\"n_estimators\"], random_state=False, verbose=False)\n",
        "# Perform K-Fold CV\n",
        "scores = cross_val_score(rfr, X, y, cv=10, scoring='r2')\n"
      ]
    },
    {
      "cell_type": "markdown",
      "metadata": {},
      "source": [
        "#### XGBoost"
      ]
    },
    {
      "cell_type": "code",
      "execution_count": null,
      "metadata": {},
      "outputs": [],
      "source": [
        "\n",
        "\n",
        "model = xgb.XGBRegressor(max_depth = 11, eta = 0.4)\n",
        "\n",
        "model.fit(X_train,y_train)\n",
        "\n",
        "y_pred = model.predict(X_test)\n",
        "\n",
        "# define model evaluation method\n",
        "cv = RepeatedKFold(n_splits=10, n_repeats=3, random_state=2022)\n",
        "# evaluate model\n",
        "scores = cross_val_score(model, X, y, scoring='r2', cv=cv)\n",
        "\n",
        "print(\"R^2 : \", r2_score(y_test, y_pred))\n",
        "print(\"MAE :\", mean_absolute_error(y_test,y_pred))\n",
        "\n",
        "\n",
        "\n",
        "\n"
      ]
    }
  ],
  "metadata": {
    "colab": {
      "collapsed_sections": [
        "4NNzcUYiOdr4"
      ],
      "provenance": []
    },
    "kernelspec": {
      "display_name": "Python 3.8.10 64-bit",
      "language": "python",
      "name": "python3"
    },
    "language_info": {
      "codemirror_mode": {
        "name": "ipython",
        "version": 3
      },
      "file_extension": ".py",
      "mimetype": "text/x-python",
      "name": "python",
      "nbconvert_exporter": "python",
      "pygments_lexer": "ipython3",
      "version": "3.8.10"
    },
    "orig_nbformat": 4,
    "vscode": {
      "interpreter": {
        "hash": "e7370f93d1d0cde622a1f8e1c04877d8463912d04d973331ad4851f04de6915a"
      }
    }
  },
  "nbformat": 4,
  "nbformat_minor": 0
}
